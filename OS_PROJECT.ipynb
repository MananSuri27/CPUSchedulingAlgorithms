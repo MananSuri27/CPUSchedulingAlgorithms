{
  "nbformat": 4,
  "nbformat_minor": 0,
  "metadata": {
    "colab": {
      "name": "OS PROJECT.ipynb",
      "provenance": [],
      "collapsed_sections": []
    },
    "kernelspec": {
      "name": "python3",
      "display_name": "Python 3"
    },
    "language_info": {
      "name": "python"
    }
  },
  "cells": [
    {
      "cell_type": "markdown",
      "source": [
        "# CPU Scheduling Algorithms\n",
        "\n",
        "**Manan Suri | 2020UCO1696**\n",
        "\n",
        "**Why do we need to schedule processes?**\n",
        "\n",
        "Scheduling is important in many different computer environments. One of the most important areas is scheduling which programs will work on the CPU. This task is handled by the Operating System (OS) of the computer and there are many different ways in which we can choose to configure programs.\n",
        "Process Scheduling allows the OS to allocate CPU time for each process. Another important reason to use a process scheduling system is that it keeps the CPU busy at all times. This allows you to get less response time for programs. \n",
        "Considering that there may be hundreds of programs that need to work, the OS must launch the program, stop it, switch to another program, etc. The way the OS configures the system to run another in the CPU is called “context switching”. If the OS keeps context-switching programs in and out of the provided CPUs, it can give the user a tricky idea that he or she can run any programs he or she wants to run, all at once.\n",
        "So now that we know we can run 1 program at a given CPU, and we know we can change the operating system and remove another one using the context switch, how do we choose which programs we need. run, and with what program?\n",
        "That’s where scheduling comes in! First, you determine the metrics, saying something like “the amount of time until the end”. We will define this metric as “the time interval between which a function enters the system until it is completed”. Second, you decide on a metrics that reduces metrics. We want our tasks to end as soon as possible.\n",
        "\n",
        "**Objectives of Process Scheduling Algorithm:**\n",
        "\n",
        "* Utilization of CPU at maximum level.  Keep CPU as busy as possible.\n",
        "* Allocation of CPU should be fair.\n",
        "* Throughput should be Maximum. i.e. Number of processes that complete their execution per time unit should be maximized.\n",
        "* Minimum turnaround time, i.e. time taken by a process to finish execution should be the least.\n",
        "* There should be a minimum waiting time and the process should not starve in the ready queue.\n",
        "* Minimum response time. It means that the time when a process produces the first response should be as less as possible.\n",
        "\n",
        "\n",
        "**What are the different terminologies to take care of in any CPU Scheduling algorithm?**\n",
        "\n",
        "* Arrival Time: Time at which the process arrives in the ready queue.\n",
        "* Completion Time: Time at which process completes its execution.\n",
        "* Burst Time: Time required by a process for CPU execution.\n",
        "* Turn Around Time: Time Difference between completion time and arrival time.\n",
        "\n"
      ],
      "metadata": {
        "id": "RYmkBrWJMkhV"
      }
    },
    {
      "cell_type": "code",
      "source": [
        "import pandas as pd\n",
        "import random\n",
        "import math\n",
        "import matplotlib.pyplot as plt"
      ],
      "metadata": {
        "id": "k403VRbkMt15"
      },
      "execution_count": 30,
      "outputs": []
    },
    {
      "cell_type": "markdown",
      "source": [
        "## Generating Dataset"
      ],
      "metadata": {
        "id": "SmVXt7EvMy06"
      }
    },
    {
      "cell_type": "code",
      "source": [
        "BurstTime = []\n",
        "priorities = []\n",
        "n = 10000\n",
        "maxTime = 50\n",
        "\n",
        "quant = maxTime/10\n",
        "\n",
        "for i in range(0,n):\n",
        "  rand = maxTime*random.random() + 1\n",
        "  BurstTime.append(rand)\n",
        "  pri = math.floor(0.3*n*(random.random())+1)\n",
        "  priorities.append(pri)\n"
      ],
      "metadata": {
        "id": "Mge1j9bZMyIp"
      },
      "execution_count": 42,
      "outputs": []
    },
    {
      "cell_type": "markdown",
      "source": [
        "## CPU Scheduling Algorithms"
      ],
      "metadata": {
        "id": "dhVXdlTzNA1B"
      }
    },
    {
      "cell_type": "markdown",
      "source": [
        "### First Come First Serve Algorithm"
      ],
      "metadata": {
        "id": "fe_geCHBRWBZ"
      }
    },
    {
      "cell_type": "markdown",
      "source": [
        "First come first serve scheduling algorithm states that the process that requests the CPU first is allocated the CPU first. It is implemented by using the FIFO queue. When a process enters the ready queue, its PCB is linked onto the tail of the queue. When the CPU is free, it is allocated to the process at the head of the queue. The running process is then removed from the queue. FCFS is a non-preemptive scheduling algorithm.\n",
        "\n",
        "**Characteristics of FCFS:**\n",
        "* FCFS supports non-preemptive and preemptive CPU scheduling algorithm.\n",
        "* Tasks are always executed on a First-come, First-serve concept.\n",
        "* FCFS is easy to implement and use.\n",
        "* This algorithm is not much efficient in performance, and the wait time is quite high.\n",
        "\n",
        "**How First Come First Serve CPU Scheduling Algorithm works?**\n",
        "* The waiting time for first process is 0 as it is executed first.\n",
        "* The waiting time for upcoming process can be calculated by: "
      ],
      "metadata": {
        "id": "3tKQEmOoTv1e"
      }
    },
    {
      "cell_type": "code",
      "source": [
        "# First come First served Algorithm\n",
        "def FCFS(data,n):\n",
        "    Twt = 0.0\n",
        "    Bst = 0.0\n",
        "    Tat = 0.0\n",
        "    Wt = [0]\n",
        "    B = list(data)\n",
        "    for i in range(1, int(n)):\n",
        "        temp = int(B[i - 1]) + int(Wt[i - 1])\n",
        "        Wt.append(temp)\n",
        "    for i in range(0, int(n)):\n",
        "        Twt = Twt + Wt[i]\n",
        "    for i in range(0, int(n)):\n",
        "        Bst = Bst + Wt[i]\n",
        "    for i in range(0, int(n)):\n",
        "        Tat = Wt[i]+int(B[i])\n",
        "\n",
        "    print(\"Total Waiting Time:\"+str(Twt))\n",
        "    print(\"Average Waiting Time:\"+str(Twt/int(n)))\n",
        "    print(\"Total Turnaround Time:\"+str(Tat))\n",
        "    print(\"Average Turnaround Time:\"+str(Tat/int(n)))\n",
        "\n",
        "    return [Twt, Twt/n, Tat, Tat/n]"
      ],
      "metadata": {
        "id": "DESXnPTGRVgz"
      },
      "execution_count": 43,
      "outputs": []
    },
    {
      "cell_type": "markdown",
      "source": [
        "### Shortest Job First Algorithm"
      ],
      "metadata": {
        "id": "iBzBhlZERait"
      }
    },
    {
      "cell_type": "markdown",
      "source": [
        "Shortest job first (SJF) or shortest job next, is a scheduling policy that selects the waiting process with the smallest execution time to execute next. SJN is a non-preemptive algorithm. \n",
        " \n",
        "\n",
        "* Shortest Job first has the advantage of having a minimum average waiting time among all scheduling algorithms.\n",
        "* It is a Greedy Algorithm.\n",
        "* It may cause starvation if shorter processes keep coming. This problem can be solved using the concept of ageing.\n",
        "* It is practically infeasible as Operating System may not know burst time and therefore may not sort them. While it is not possible to predict execution time, several methods can be used to estimate the execution time for a job, such as a weighted average of previous execution times. SJF can be used in specialized environments where accurate estimates of running time are available."
      ],
      "metadata": {
        "id": "HHdMoor8UM7w"
      }
    },
    {
      "cell_type": "code",
      "source": [
        "\n",
        "# Shortest job First Algorithm\n",
        "def SJF(data,n):\n",
        "    # Sort the brust time\n",
        "    Twt = 0.0\n",
        "    Bst = 0.0\n",
        "    aTat = 0.0\n",
        "    Wt = [0]\n",
        "    Tat = [0]\n",
        "    B = list(data)\n",
        "    for i in range(int(n), 0, -1):\n",
        "        for j in range(1, int(n)):\n",
        "            if B[j - 1] > B[j]:\n",
        "                temp = B[j - 1]\n",
        "                B[j - 1] = B[j]\n",
        "                B[j] = temp\n",
        "    Wt = [0]\n",
        "    for i in range(1, int(n)):\n",
        "        temp = int(B[i - 1]) + int(Wt[i - 1])\n",
        "        Wt.append(temp)\n",
        "    for i in range(0, int(n)):\n",
        "        Twt = Twt + Wt[i]\n",
        "    for i in range(0, int(n)):\n",
        "        Bst = Bst + Wt[i]\n",
        "    for i in range(0, int(n)):\n",
        "        Tat = Wt[i]+int(B[i])\n",
        "\n",
        "    print(\"Total Waiting Time:\"+str(Twt))\n",
        "    print(\"Average Waiting Time:\"+str(Twt/int(n)))\n",
        "    print(\"Total Turnaround Time:\"+str(Tat))\n",
        "    print(\"Average Turnaround Time:\"+str(Tat/int(n)))\n",
        "    return [Twt, Twt/n, Tat, Tat/n]\n"
      ],
      "metadata": {
        "id": "uM7WUckCNPG5"
      },
      "execution_count": 44,
      "outputs": []
    },
    {
      "cell_type": "markdown",
      "source": [
        "###Priority Algoritm"
      ],
      "metadata": {
        "id": "vPOYDycWRhH-"
      }
    },
    {
      "cell_type": "markdown",
      "source": [
        "Priority scheduling is one of the most common scheduling algorithms in batch systems. Each process is assigned a priority. Process with the highest priority is to be executed first and so on. \n",
        "Processes with the same priority are executed on first come first served basis. Priority can be decided based on memory requirements, time requirements or any other resource requirement."
      ],
      "metadata": {
        "id": "SI8dKyU-UhJV"
      }
    },
    {
      "cell_type": "markdown",
      "source": [
        ""
      ],
      "metadata": {
        "id": "TLoVMH0NUpGw"
      }
    },
    {
      "cell_type": "code",
      "source": [
        "\n",
        "# Priority Algorithm\n",
        "def Priority(data, priority,n):\n",
        "    Twt = 0.0\n",
        "    Bst = 0.0\n",
        "    Tat = 0.0\n",
        "    w = 0.0\n",
        "    B = data\n",
        "    P = priority\n",
        "\n",
        "    pMax = 6\n",
        "\n",
        "    Wt = [0]*n\n",
        "\n",
        "\n",
        "    for j in range(pMax):\n",
        "        for i in range(0, n):\n",
        "            if P[i] ==j:\n",
        "                Wt[i] = w\n",
        "                w = w+B[i]\n",
        "    for i in range(0, int(n)):\n",
        "        Twt = Twt + Wt[i]\n",
        "    for i in range(0, int(n)):\n",
        "        Bst = Bst + Wt[i]\n",
        "    for i in range(0, int(n)):\n",
        "        Tat = Wt[i]+int(B[i])\n",
        "\n",
        "    print(\"Total Waiting Time:\"+str(Twt))\n",
        "    print(\"Average Waiting Time:\"+str(Twt/int(n)))\n",
        "    print(\"Total Turnaround Time:\"+str(Tat))\n",
        "    print(\"Average Turnaround Time:\"+str(Tat/int(n)))\n",
        "    return [Twt, Twt/n, Tat, Tat/n]\n",
        "\n"
      ],
      "metadata": {
        "id": "BbBvLBONQyTT"
      },
      "execution_count": 45,
      "outputs": []
    },
    {
      "cell_type": "markdown",
      "source": [
        "### Round robin Algorithm"
      ],
      "metadata": {
        "id": "aam0LBHiRzBE"
      }
    },
    {
      "cell_type": "markdown",
      "source": [
        "Priority scheduling is one of the most common scheduling algorithms in batch systems. Each process is assigned a priority. Process with the highest priority is to be executed first and so on. \n",
        "Processes with the same priority are executed on first come first served basis. Priority can be decided based on memory requirements, time requirements or any other resource requirement."
      ],
      "metadata": {
        "id": "VqssSBh-U3JR"
      }
    },
    {
      "cell_type": "code",
      "source": [
        "# Round Robin Algorithm\n",
        "def RoundRobin(data,n, quant):\n",
        "    Twt = 0\n",
        "    Bst = 0.0\n",
        "    w = 0.0\n",
        "    Tat = [0]\n",
        "    aTat = 0.0\n",
        "    Wt = [0]\n",
        "    quantum = quant\n",
        "    B = list(data)\n",
        "    rem_bt = list(data)\n",
        "    t = 0 # Current time\n",
        "    while(1):\n",
        "        done = True\n",
        "        for i in range(int(n) ):\n",
        "            if (int(rem_bt[i]) > 0) :\n",
        "                done = False # There is a pending process\n",
        "                if (int(rem_bt[i]) > quantum) :\n",
        "                    t += quantum\n",
        "                    rem_bt[i] = int(rem_bt[i]) - quantum  \n",
        "                else:\n",
        "                    t = t + int(rem_bt[i])\n",
        "                    Wt.append(t - int(B[i]))\n",
        "                    rem_bt[i] = 0\n",
        "        if (done == True):\n",
        "            break\n",
        "    for i in range(int(n)+1):\n",
        "        Twt = int(Twt) + int(Wt[i])\n",
        "    for i in range(int(n)):\n",
        "        temp = int(B[i]) + int(Wt[i])\n",
        "        Tat.append(temp)\n",
        "        aTat = aTat + Tat[i]\n",
        "\n",
        "    print(\"Total Waiting Time:\"+str(Twt))\n",
        "    print(\"Average Waiting Time:\"+str(Twt/int(n)))\n",
        "    print(\"Total Turnaround Time:\"+str(aTat))\n",
        "    print(\"Average Turnaround Time:\"+str(aTat/int(n)))\n",
        "    return [Twt, Twt/n, aTat, aTat/n]\n"
      ],
      "metadata": {
        "id": "DwHPznMUR1Cd"
      },
      "execution_count": 46,
      "outputs": []
    },
    {
      "cell_type": "markdown",
      "source": [
        "## Calling Different Algorithms on same Data"
      ],
      "metadata": {
        "id": "9KjB1tvqR2C9"
      }
    },
    {
      "cell_type": "code",
      "source": [
        "fcfs = FCFS(BurstTime,n)"
      ],
      "metadata": {
        "colab": {
          "base_uri": "https://localhost:8080/",
          "height": 0
        },
        "id": "TPz22WcZR5XJ",
        "outputId": "d6335deb-5bb8-4013-a038-46a6978e78de"
      },
      "execution_count": 47,
      "outputs": [
        {
          "output_type": "stream",
          "name": "stdout",
          "text": [
            "Total Waiting Time:1265474326.0\n",
            "Average Waiting Time:126547.4326\n",
            "Total Turnaround Time:253562\n",
            "Average Turnaround Time:25.3562\n"
          ]
        }
      ]
    },
    {
      "cell_type": "code",
      "source": [
        "sjf = SJF(BurstTime,n)"
      ],
      "metadata": {
        "colab": {
          "base_uri": "https://localhost:8080/",
          "height": 0
        },
        "id": "9op8g-B6R90J",
        "outputId": "5efd09b8-265c-48d0-db55-e87de2d9e567"
      },
      "execution_count": 48,
      "outputs": [
        {
          "output_type": "stream",
          "name": "stdout",
          "text": [
            "Total Waiting Time:850032093.0\n",
            "Average Waiting Time:85003.2093\n",
            "Total Turnaround Time:253562\n",
            "Average Turnaround Time:25.3562\n"
          ]
        }
      ]
    },
    {
      "cell_type": "code",
      "source": [
        "prty = Priority(BurstTime, priorities,n)"
      ],
      "metadata": {
        "colab": {
          "base_uri": "https://localhost:8080/",
          "height": 0
        },
        "id": "5x1clhVOSB6O",
        "outputId": "504543c4-c2fb-4cf2-dd64-3650c4e60587"
      },
      "execution_count": 49,
      "outputs": [
        {
          "output_type": "stream",
          "name": "stdout",
          "text": [
            "Total Waiting Time:5415.45847934495\n",
            "Average Waiting Time:0.541545847934495\n",
            "Total Turnaround Time:13\n",
            "Average Turnaround Time:0.0013\n"
          ]
        }
      ]
    },
    {
      "cell_type": "code",
      "source": [
        "rr = RoundRobin(BurstTime, n, quant)"
      ],
      "metadata": {
        "colab": {
          "base_uri": "https://localhost:8080/",
          "height": 0
        },
        "id": "8k4g9jKHSPTK",
        "outputId": "6fccd9d6-daa7-4331-818e-d40cffe57533"
      },
      "execution_count": 50,
      "outputs": [
        {
          "output_type": "stream",
          "name": "stdout",
          "text": [
            "Total Waiting Time:1669955242\n",
            "Average Waiting Time:166995.5242\n",
            "Total Turnaround Time:1669701763.0\n",
            "Average Turnaround Time:166970.1763\n"
          ]
        }
      ]
    },
    {
      "cell_type": "markdown",
      "source": [
        "## Visualisation of Results"
      ],
      "metadata": {
        "id": "TgK3LNjNSoZq"
      }
    },
    {
      "cell_type": "code",
      "source": [
        "# Average Waiting Time\n",
        "\n",
        "data = [fcfs[1] ,sjf[1], prty[1], rr[1]]\n",
        "plt.bar([\"FCFS\",\"SJF\",\"Priority\",\"RoundRobin\"], data, color='#95a5a6')\n",
        "plt.xlabel('Algorithm')\n",
        "plt.ylabel('Average Waiting Time (in seconds)')\n",
        "plt.title('Comparison of Average Waiting Times')\n",
        "plt.show()"
      ],
      "metadata": {
        "colab": {
          "base_uri": "https://localhost:8080/",
          "height": 295
        },
        "id": "zheIJm_ASum-",
        "outputId": "be94f1be-a025-4dd8-81b3-fbb9f261db7f"
      },
      "execution_count": 51,
      "outputs": [
        {
          "output_type": "display_data",
          "data": {
            "text/plain": [
              "<Figure size 432x288 with 1 Axes>"
            ],
            "image/png": "[encoded data removed]"
          },
          "metadata": {
            "needs_background": "light"
          }
        }
      ]
    },
    {
      "cell_type": "code",
      "source": [
        "# Average Turnaround Time\n",
        "\n",
        "data = [fcfs[3] ,sjf[3], prty[3], rr[3]]\n",
        "plt.bar([\"FCFS\",\"SJF\",\"Priority\",\"RoundRobin\"], data, color='#95a5a6')\n",
        "plt.xlabel('Algorithm')\n",
        "plt.ylabel('Average Turnaround Time (in seconds)')\n",
        "plt.title('Comparison of Average Turnaround Times')\n",
        "plt.show()"
      ],
      "metadata": {
        "colab": {
          "base_uri": "https://localhost:8080/",
          "height": 295
        },
        "id": "6rfAQZ3DTbms",
        "outputId": "a9b760fe-b831-4c37-9653-c8a7e581a4c5"
      },
      "execution_count": 52,
      "outputs": [
        {
          "output_type": "display_data",
          "data": {
            "text/plain": [
              "<Figure size 432x288 with 1 Axes>"
            ],
            "image/png": "[encoded data removed]"
          },
          "metadata": {
            "needs_background": "light"
          }
        }
      ]
    }
  ]
}